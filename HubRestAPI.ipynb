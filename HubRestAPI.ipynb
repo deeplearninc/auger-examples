{
 "cells": [
  {
   "cell_type": "markdown",
   "metadata": {},
   "source": [
    "# Common Methods"
   ]
  },
  {
   "cell_type": "code",
   "execution_count": null,
   "metadata": {},
   "outputs": [],
   "source": [
    "import requests\n",
    "import uuid\n",
    "import time\n",
    "import sys\n",
    "\n",
    "base_url = 'https://app.auger.ai/api/v1'\n",
    "\n",
    "def get_method(url, json={}):\n",
    "    payload = {'token': token}\n",
    "    payload.update(json)\n",
    "    return requests.get(url,\n",
    "        headers={\n",
    "            'Accept': 'application/json, text/plain, */*',\n",
    "            'Content-Type': 'application/json'\n",
    "        },\n",
    "        json= payload\n",
    "    )\n",
    "\n",
    "def post_method(url, json={}):\n",
    "    payload = {'token': token}\n",
    "    payload.update(json)\n",
    "    return requests.post(url,\n",
    "        headers={\n",
    "            'Accept': 'application/json, text/plain, */*',\n",
    "            'Content-Type': 'application/json'\n",
    "        },\n",
    "        json= payload\n",
    "    )\n",
    "\n",
    "def put_method(url, id, json={}):\n",
    "    payload = {'token': token}\n",
    "    payload.update(json)\n",
    "    url = url + \"/\" + id\n",
    "    return requests.put(url,\n",
    "        headers={\n",
    "            'Accept': 'application/json, text/plain, */*',\n",
    "            'Content-Type': 'application/json'\n",
    "        },\n",
    "        json= payload\n",
    "    )"
   ]
  },
  {
   "cell_type": "markdown",
   "metadata": {},
   "source": [
    "# Getting your API token\n"
   ]
  },
  {
   "cell_type": "code",
   "execution_count": null,
   "metadata": {},
   "outputs": [],
   "source": [
    "\n",
    "token_url = base_url + '/tokens'\n",
    "email = 'my_emal'\n",
    "password = 'my_password'\n",
    "resp = requests.post(token_url,\n",
    "                     headers={\n",
    "                        'Accept': 'application/json, text/plain, */*',\n",
    "                        'Content-Type': 'application/json'\n",
    "                     },\n",
    "                     json=  {'email': email, 'password': password}\n",
    "                    )\n",
    "                    \n",
    "token = resp.json()['data']['token']\n",
    "print(token)"
   ]
  },
  {
   "cell_type": "markdown",
   "metadata": {},
   "source": [
    "# Deploying a project to a cluster\n"
   ]
  },
  {
   "cell_type": "markdown",
   "metadata": {},
   "source": [
    "### First lets get our organization id. "
   ]
  },
  {
   "cell_type": "code",
   "execution_count": null,
   "metadata": {},
   "outputs": [],
   "source": [
    "orgs_url = base_url + '/organizations'\n",
    "org_name = 'your organization name'\n",
    "orgs_json = {'limit': 100,'name': org_name}\n",
    "resp = get_method(orgs_url, orgs_json).json()\n",
    "organizations = resp['data']\n",
    "\n",
    "org_id = organizations[0]['id']\n",
    "print(org_id)"
   ]
  },
  {
   "cell_type": "markdown",
   "metadata": {},
   "source": [
    "### Next lets get a list of cluster types to choose from"
   ]
  },
  {
   "cell_type": "code",
   "execution_count": null,
   "metadata": {},
   "outputs": [],
   "source": [
    "instance_types_url = base_url + '/instance_types'\n",
    "resp = get_method(instance_types_url).json()\n",
    "instance_types = resp['data']\n",
    "\n",
    "for instance_type in instance_types:\n",
    "    print(\"id: {}    description: {} \".format(instance_type['id'],instance_type['description']))\n"
   ]
  },
  {
   "cell_type": "markdown",
   "metadata": {},
   "source": [
    "### Create a project"
   ]
  },
  {
   "cell_type": "code",
   "execution_count": null,
   "metadata": {},
   "outputs": [],
   "source": [
    "projects_url = base_url + '/projects'\n",
    "projects_json = {'name':'APIProject2', 'organization_id': org_id}\n",
    "resp = post_method(projects_url, projects_json).json()\n",
    "print(resp)\n",
    "project_id = resp['data']['id']"
   ]
  },
  {
   "cell_type": "markdown",
   "metadata": {},
   "source": [
    "### Or Get an existing project"
   ]
  },
  {
   "cell_type": "code",
   "execution_count": null,
   "metadata": {},
   "outputs": [],
   "source": [
    "projects_url = base_url + '/projects'\n",
    "name = 'my project name'\n",
    "projects_json = {'name': name, 'organization_id': org_id}\n",
    "resp = get_method(projects_url, projects_json).json()\n",
    "print(resp)\n",
    "project_id = resp['data'][0]['id']"
   ]
  },
  {
   "cell_type": "markdown",
   "metadata": {},
   "source": [
    "### Create a cluster and deploy your project"
   ]
  },
  {
   "cell_type": "code",
   "execution_count": null,
   "metadata": {},
   "outputs": [],
   "source": [
    "clusters_url = base_url + '/clusters'\n",
    "project_id = project_id\n",
    "clusters_json = {'organization_id': org_id, 'instance_type': 'c5.xlarge', 'project_id': project_id }\n",
    "resp = post_method(clusters_url, clusters_json).json()\n",
    "cluster = resp['data']\n",
    "print(cluster)\n"
   ]
  },
  {
   "cell_type": "markdown",
   "metadata": {},
   "source": [
    "### Check cluster status "
   ]
  },
  {
   "cell_type": "code",
   "execution_count": null,
   "metadata": {},
   "outputs": [],
   "source": [
    "cluster_id = str(cluster['id'])\n",
    "resp = get_method(clusters_url + '/' + cluster_id, clusters_json).json()\n",
    "cluster = resp['data']\n",
    "\n",
    "while cluster['status'] != 'running':\n",
    "    resp = get_method(clusters_url + '/' + cluster_id, clusters_json).json()\n",
    "    cluster = resp['data']\n",
    "    print(cluster['status'])\n",
    "    time.sleep(30)\n"
   ]
  },
  {
   "cell_type": "markdown",
   "metadata": {},
   "source": [
    "# Running an experiment"
   ]
  },
  {
   "cell_type": "markdown",
   "metadata": {},
   "source": [
    "### First lets upload our dataset "
   ]
  },
  {
   "cell_type": "code",
   "execution_count": null,
   "metadata": {},
   "outputs": [],
   "source": [
    "project_file_url = projects_url + '/' + str(project_id) + '/files'\n",
    "dataset_url = 'remote path to data.csv'\n",
    "project_file_json = { 'name': 'IrisData', 'url': dataset_url, 'file_name': 'iris_data.csv' }\n",
    "resp = post_method(project_file_url, project_file_json).json()\n",
    "print(resp)\n",
    "project_file = resp['data']\n",
    "project_file_id = project_file['id']\n",
    "print(project_file)\n"
   ]
  },
  {
   "cell_type": "markdown",
   "metadata": {},
   "source": [
    "### Get a project_file"
   ]
  },
  {
   "cell_type": "code",
   "execution_count": null,
   "metadata": {},
   "outputs": [],
   "source": [
    "project_file_url = projects_url + '/' + str(project_id) + '/files'\n",
    "resp = get_method(project_file_url).json()\n",
    "#print(resp)\n",
    "project_files = resp['data']\n",
    "project_file_id = project_files[0]['id']\n",
    "#print(project_files)\n",
    "\n",
    "print(project_file_id)\n",
    "\n"
   ]
  },
  {
   "cell_type": "markdown",
   "metadata": {},
   "source": [
    "### Create experiment for dataset"
   ]
  },
  {
   "cell_type": "code",
   "execution_count": null,
   "metadata": {},
   "outputs": [],
   "source": [
    "experiments_url = base_url + '/experiments'\n",
    "exp_name = \"my experiment name\"\n",
    "experiments_json_post = {'project_id': project_id, 'name': exp_name, 'project_file_id': project_file_id}\n",
    "resp = post_method(experiments_url, experiments_json_post).json()\n",
    "print(resp)\n",
    "experiment = resp['data']\n",
    "experiment_id = experiment['id']\n",
    "print(experiment)"
   ]
  },
  {
   "cell_type": "markdown",
   "metadata": {},
   "source": [
    "### Create an experiment session"
   ]
  },
  {
   "cell_type": "code",
   "execution_count": null,
   "metadata": {},
   "outputs": [],
   "source": [
    "exp_session_url = base_url + '/experiment_sessions'\n",
    "\n",
    "features = [\n",
    "    {'column_name': 'sepal_length'}, \n",
    "    {'column_name': 'sepal_width' },\n",
    "    {'column_name': 'petal_length'}, \n",
    "    {'column_name': 'petal_width' }, \n",
    "    {'column_name': 'class', 'datatype': 'categorical','isTarget': True}\n",
    "    ]\n",
    "\n",
    "model_settings = {\n",
    "    'scoring': 'accuracy',\n",
    "    'max_n_trials': 100,\n",
    "    'features': features\n",
    "    }\n",
    "exp_session_json_post = { 'project_id': project_id, 'experiment_id': experiment_id,\n",
    "                           'model_settings': model_settings, 'model_type': 'classification',\n",
    "                        }\n",
    "    \n",
    "resp = post_method(exp_session_url,exp_session_json_post).json()\n",
    "print(resp)\n",
    "experiment_session = resp['data']\n",
    "experiment_session_id = experiment_session['id']\n",
    "print(experiment_session)"
   ]
  },
  {
   "cell_type": "markdown",
   "metadata": {},
   "source": [
    "### Run the experiment session"
   ]
  },
  {
   "cell_type": "code",
   "execution_count": null,
   "metadata": {},
   "outputs": [],
   "source": [
    "\n",
    "exp_session_update = put_method(exp_session_url, \n",
    "                                experiment_session_id, \n",
    "                                {\n",
    "                                    'status': 'preprocess' \n",
    "                                })\n",
    "\n",
    "print(exp_session_update.json())"
   ]
  },
  {
   "cell_type": "markdown",
   "metadata": {},
   "source": [
    "### Watch our leaderboard grow"
   ]
  },
  {
   "cell_type": "code",
   "execution_count": null,
   "metadata": {},
   "outputs": [],
   "source": [
    "import time\n",
    "trials_url = exp_session_url + '/'+ experiment_session_id + '/trials'\n",
    "\n",
    "resp = get_method(trials_url).json()\n",
    "trials = resp['data']\n",
    "\n",
    "\n",
    "for trial in trials:\n",
    "    #print(trial)\n",
    "    print(\"{} - {}\".format(trial['hyperparameter']['algorithm_name'],trial['score_value']))\n",
    "\n",
    "\n",
    "\n",
    "resp = get_method(exp_session_url + '/' + experiment_session_id).json()\n",
    "experiment_session = resp['data']\n",
    "print(experiment_session['status'])\n",
    "while experiment_session['status'] in ['preprocess','started']:\n",
    "    time.sleep(5)\n",
    "    \n",
    "    resp = get_method(trials_url).json()\n",
    "    trials = resp['data']\n",
    "    for trial in trials:\n",
    "        #print(trial)\n",
    "        print(\"{} - {}\".format(trial['hyperparameter']['algorithm_name'],trial['score_value']))\n",
    "\n",
    "    resp = get_method(exp_session_url + '/' + experiment_session_id).json()\n",
    "    experiment_session = resp['data']\n",
    "    print(experiment_session['status'])\n",
    "\n"
   ]
  },
  {
   "cell_type": "markdown",
   "metadata": {},
   "source": []
  },
  {
   "cell_type": "code",
   "execution_count": null,
   "metadata": {},
   "outputs": [],
   "source": [
    "\n",
    "\n"
   ]
  }
 ],
 "metadata": {
  "kernelspec": {
   "display_name": "Python 3",
   "language": "python",
   "name": "python3"
  },
  "language_info": {
   "codemirror_mode": {
    "name": "ipython",
    "version": 3
   },
   "file_extension": ".py",
   "mimetype": "text/x-python",
   "name": "python",
   "nbconvert_exporter": "python",
   "pygments_lexer": "ipython3",
   "version": "3.7.2"
  }
 },
 "nbformat": 4,
 "nbformat_minor": 2
}
