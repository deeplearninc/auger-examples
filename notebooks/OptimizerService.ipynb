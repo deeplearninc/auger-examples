{
 "cells": [
  {
   "cell_type": "markdown",
   "metadata": {},
   "source": [
    "## Get Token"
   ]
  },
  {
   "cell_type": "code",
   "execution_count": null,
   "metadata": {},
   "outputs": [],
   "source": [
    "import requests\n",
    "\n",
    "url = \"https://app.auger.ai/api/v1/\"\n",
    "email = '<email>'\n",
    "password = '<password>'\n",
    "params = {'email': email, 'password': password}\n",
    "response = requests.post(url + \"/tokens\", json=params).json()\n",
    "token = response.get('data').get('token')\n"
   ]
  },
  {
   "cell_type": "code",
   "execution_count": null,
   "metadata": {},
   "outputs": [],
   "source": [
    "## Define Search Space\n",
    "\n",
    "search_space = {\n",
    "    \"sklearn.ensemble.RandomForestClassifier\": {\n",
    "        \"n_estimators\": {\n",
    "            \"bounds\": [50,300],\n",
    "            \"log\": False,\n",
    "            \"type\": \"int\",\n",
    "            \"tunable\": True\n",
    "        },\n",
    "        \"max_features\": {\n",
    "            \"bounds\": [0.05,1.0],\n",
    "            \"log\": False,\n",
    "            \"type\": \"float\",\n",
    "            \"tunable\": True\n",
    "        },\n",
    "        \"min_samples_split\": {\n",
    "            \"bounds\": [2,20],\n",
    "            \"log\": False,\n",
    "            \"type\": \"int\",\n",
    "            \"tunable\": True\n",
    "        },\n",
    "        \"min_samples_leaf\": {\n",
    "            \"bounds\": [1,20],\n",
    "            \"log\": False,\n",
    "            \"type\": \"int\",\n",
    "            \"tunable\": True\n",
    "        },\n",
    "        \"bootstrap\": {\n",
    "            \"values\": [True,False],\n",
    "            \"type\": \"categorical\",\n",
    "            \"tunable\": True\n",
    "        }\n",
    "    },\n",
    "    \"sklearn.ensemble.GradientBoostingClassifier\": {\n",
    "        \"n_estimators\": {\n",
    "            \"bounds\": [50,300],\n",
    "            \"log\": False,\n",
    "            \"type\": \"int\",\n",
    "            \"tunable\": True\n",
    "        },\n",
    "        \"learning_rate\": {\n",
    "            \"bounds\": [0.001,1.0],\n",
    "            \"log\": True,\n",
    "            \"type\": \"float\",\n",
    "            \"tunable\": True\n",
    "        },\n",
    "        \"max_depth\": {\n",
    "            \"bounds\": [1,10],\n",
    "            \"log\": False,\n",
    "            \"type\": \"int\",\n",
    "            \"tunable\": True\n",
    "        },\n",
    "        \"min_samples_split\": {\n",
    "            \"bounds\": [2,20],\n",
    "            \"log\": False,\n",
    "            \"type\": \"int\",\n",
    "            \"tunable\": True\n",
    "        },\n",
    "        \"min_samples_leaf\": {\n",
    "            \"bounds\": [1,20],\n",
    "            \"log\": False,\n",
    "            \"type\": \"int\",\n",
    "            \"tunable\": True\n",
    "        },\n",
    "        \"subsample\": {\n",
    "            \"bounds\": [0.05,1.0],\n",
    "            \"log\": False,\n",
    "            \"type\": \"float\",\n",
    "            \"tunable\": True\n",
    "        },\n",
    "        \"max_features\": {\n",
    "            \"bounds\": [0.05,1.0],\n",
    "            \"log\": False,\n",
    "            \"type\": \"float\",\n",
    "            \"tunable\": True\n",
    "        }\n",
    "    }\n",
    "}\n",
    "\n",
    "trial_count = 10\n",
    "\n"
   ]
  },
  {
   "cell_type": "markdown",
   "metadata": {},
   "source": [
    "## Initialize Trial Search Space"
   ]
  },
  {
   "cell_type": "code",
   "execution_count": null,
   "metadata": {},
   "outputs": [],
   "source": [
    "\n",
    "params = {'trials_total_count': trial_count, 'search_space': search_space, 'dataset_metafeatures':{}, 'token': token}\n",
    "response = requests.post(url + \"trial_searches\", json=params).json()\n",
    "\n",
    "data = response.get('data')\n",
    "\n",
    "search_id = data.get('id')\n",
    "print(search_id)\n",
    "\n"
   ]
  },
  {
   "cell_type": "markdown",
   "metadata": {},
   "source": [
    "## Load Sample Dataset"
   ]
  },
  {
   "cell_type": "code",
   "execution_count": null,
   "metadata": {},
   "outputs": [],
   "source": [
    "from sklearn.datasets import load_iris\n",
    "from sklearn.model_selection import train_test_split\n",
    "import numpy as np\n",
    "\n",
    "iris = load_iris()\n",
    "X_train, X_test, y_train, y_test = train_test_split(iris.data.astype(np.float64),\n",
    "    iris.target.astype(np.float64), train_size=0.75, test_size=0.25)\n",
    "\n"
   ]
  },
  {
   "cell_type": "markdown",
   "metadata": {},
   "source": [
    "## Get Trials"
   ]
  },
  {
   "cell_type": "code",
   "execution_count": null,
   "metadata": {},
   "outputs": [],
   "source": [
    "trials_limit = 4\n",
    "def continue_trial_search(trials_history):\n",
    "    data = {'trials_limit': trials_limit, 'trials_history': trials_history, 'token': token}\n",
    "    response = requests.patch(url + \"trial_searches/{}\".format(search_id), json=data).json()\n",
    "\n",
    "    return response.get('data').get('next_trials',[])\n",
    "\n"
   ]
  },
  {
   "cell_type": "markdown",
   "metadata": {},
   "source": [
    "## Fit and Score Trials"
   ]
  },
  {
   "cell_type": "code",
   "execution_count": null,
   "metadata": {},
   "outputs": [],
   "source": [
    "import copy\n",
    "import importlib\n",
    "import time\n",
    "\n",
    "\n",
    "trials_history = []\n",
    "next_trials = continue_trial_search(trials_history=trials_history)\n",
    "\n",
    "while(len(trials_history) < trial_count and next_trials != None):\n",
    "    for trial in next_trials:\n",
    "\n",
    "        algo_params = copy.deepcopy(trial.get('algorithm_params'))\n",
    "\n",
    "        module_name, class_name = trial.get('algorithm_name').rsplit('.', 1)\n",
    "        cls = getattr(importlib.import_module(module_name), class_name)\n",
    "        start_fit_time = time.time()\n",
    "        model = cls(**algo_params).fit(X_train, y_train)\n",
    "\n",
    "\n",
    "        history_item = copy.deepcopy(trial)\n",
    "        history_item['evaluation_time'] = time.time() - start_fit_time\n",
    "\n",
    "        history_item['score'] = model.score(X_test, y_test)\n",
    "\n",
    "        trials_history.append(history_item)\n",
    "\n",
    "    next_trials = continue_trial_search(trials_history=trials_history)\n",
    "    \n",
    "print(trials_history)"
   ]
  }
 ],
 "metadata": {
  "kernelspec": {
   "display_name": "Python 3",
   "language": "python",
   "name": "python3"
  },
  "language_info": {
   "codemirror_mode": {
    "name": "ipython",
    "version": 3
   },
   "file_extension": ".py",
   "mimetype": "text/x-python",
   "name": "python",
   "nbconvert_exporter": "python",
   "pygments_lexer": "ipython3",
   "version": "3.7.2"
  }
 },
 "nbformat": 4,
 "nbformat_minor": 2
}
